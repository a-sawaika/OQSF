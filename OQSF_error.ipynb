{
  "nbformat": 4,
  "nbformat_minor": 0,
  "metadata": {
    "colab": {
      "provenance": [],
      "authorship_tag": "ABX9TyPkLGBsnq+k6ifHaQCIc/1W"
    },
    "kernelspec": {
      "name": "python3",
      "display_name": "Python 3"
    },
    "language_info": {
      "name": "python"
    }
  },
  "cells": [
    {
      "cell_type": "code",
      "execution_count": null,
      "metadata": {
        "colab": {
          "base_uri": "https://localhost:8080/"
        },
        "id": "UDax33SeyDt5",
        "outputId": "64ec3e37-c9ec-4f07-d7dd-f9c371c19f46"
      },
      "outputs": [
        {
          "output_type": "stream",
          "name": "stdout",
          "text": [
            "Requirement already satisfied: qiskit[visulization] in /usr/local/lib/python3.10/dist-packages (1.2.4)\n",
            "\u001b[33mWARNING: qiskit 1.2.4 does not provide the extra 'visulization'\u001b[0m\u001b[33m\n",
            "\u001b[0mRequirement already satisfied: rustworkx>=0.15.0 in /usr/local/lib/python3.10/dist-packages (from qiskit[visulization]) (0.15.1)\n",
            "Requirement already satisfied: numpy<3,>=1.17 in /usr/local/lib/python3.10/dist-packages (from qiskit[visulization]) (1.26.4)\n",
            "Requirement already satisfied: scipy>=1.5 in /usr/local/lib/python3.10/dist-packages (from qiskit[visulization]) (1.13.1)\n",
            "Requirement already satisfied: sympy>=1.3 in /usr/local/lib/python3.10/dist-packages (from qiskit[visulization]) (1.13.1)\n",
            "Requirement already satisfied: dill>=0.3 in /usr/local/lib/python3.10/dist-packages (from qiskit[visulization]) (0.3.9)\n",
            "Requirement already satisfied: python-dateutil>=2.8.0 in /usr/local/lib/python3.10/dist-packages (from qiskit[visulization]) (2.8.2)\n",
            "Requirement already satisfied: stevedore>=3.0.0 in /usr/local/lib/python3.10/dist-packages (from qiskit[visulization]) (5.3.0)\n",
            "Requirement already satisfied: typing-extensions in /usr/local/lib/python3.10/dist-packages (from qiskit[visulization]) (4.12.2)\n",
            "Requirement already satisfied: symengine<0.14,>=0.11 in /usr/local/lib/python3.10/dist-packages (from qiskit[visulization]) (0.13.0)\n",
            "Requirement already satisfied: six>=1.5 in /usr/local/lib/python3.10/dist-packages (from python-dateutil>=2.8.0->qiskit[visulization]) (1.16.0)\n",
            "Requirement already satisfied: pbr>=2.0.0 in /usr/local/lib/python3.10/dist-packages (from stevedore>=3.0.0->qiskit[visulization]) (6.1.0)\n",
            "Requirement already satisfied: mpmath<1.4,>=1.1.0 in /usr/local/lib/python3.10/dist-packages (from sympy>=1.3->qiskit[visulization]) (1.3.0)\n",
            "Requirement already satisfied: qiskit-aer in /usr/local/lib/python3.10/dist-packages (0.15.1)\n",
            "Requirement already satisfied: qiskit>=1.1.0 in /usr/local/lib/python3.10/dist-packages (from qiskit-aer) (1.2.4)\n",
            "Requirement already satisfied: numpy>=1.16.3 in /usr/local/lib/python3.10/dist-packages (from qiskit-aer) (1.26.4)\n",
            "Requirement already satisfied: scipy>=1.0 in /usr/local/lib/python3.10/dist-packages (from qiskit-aer) (1.13.1)\n",
            "Requirement already satisfied: psutil>=5 in /usr/local/lib/python3.10/dist-packages (from qiskit-aer) (5.9.5)\n",
            "Requirement already satisfied: rustworkx>=0.15.0 in /usr/local/lib/python3.10/dist-packages (from qiskit>=1.1.0->qiskit-aer) (0.15.1)\n",
            "Requirement already satisfied: sympy>=1.3 in /usr/local/lib/python3.10/dist-packages (from qiskit>=1.1.0->qiskit-aer) (1.13.1)\n",
            "Requirement already satisfied: dill>=0.3 in /usr/local/lib/python3.10/dist-packages (from qiskit>=1.1.0->qiskit-aer) (0.3.9)\n",
            "Requirement already satisfied: python-dateutil>=2.8.0 in /usr/local/lib/python3.10/dist-packages (from qiskit>=1.1.0->qiskit-aer) (2.8.2)\n",
            "Requirement already satisfied: stevedore>=3.0.0 in /usr/local/lib/python3.10/dist-packages (from qiskit>=1.1.0->qiskit-aer) (5.3.0)\n",
            "Requirement already satisfied: typing-extensions in /usr/local/lib/python3.10/dist-packages (from qiskit>=1.1.0->qiskit-aer) (4.12.2)\n",
            "Requirement already satisfied: symengine<0.14,>=0.11 in /usr/local/lib/python3.10/dist-packages (from qiskit>=1.1.0->qiskit-aer) (0.13.0)\n",
            "Requirement already satisfied: six>=1.5 in /usr/local/lib/python3.10/dist-packages (from python-dateutil>=2.8.0->qiskit>=1.1.0->qiskit-aer) (1.16.0)\n",
            "Requirement already satisfied: pbr>=2.0.0 in /usr/local/lib/python3.10/dist-packages (from stevedore>=3.0.0->qiskit>=1.1.0->qiskit-aer) (6.1.0)\n",
            "Requirement already satisfied: mpmath<1.4,>=1.1.0 in /usr/local/lib/python3.10/dist-packages (from sympy>=1.3->qiskit>=1.1.0->qiskit-aer) (1.3.0)\n"
          ]
        }
      ],
      "source": [
        "!pip install qiskit['visulization']\n",
        "!pip install qiskit-aer"
      ]
    },
    {
      "cell_type": "code",
      "source": [
        "from qiskit import QuantumCircuit, transpile\n",
        "from qiskit.quantum_info import Statevector\n",
        "from qiskit.circuit.library import XGate, YGate, ZGate, CPhaseGate\n",
        "from qiskit.circuit import CircuitInstruction, Gate\n",
        "from numpy import random, math, binary_repr\n",
        "from copy import deepcopy\n",
        "from qiskit_aer import AerSimulator\n",
        "from qiskit.visualization import plot_histogram\n",
        "from qiskit.providers.fake_provider import GenericBackendV2\n",
        "\n",
        "seed = 10;\n",
        "random.seed = seed;\n",
        "\n",
        "backend = GenericBackendV2(num_qubits=5)\n",
        "sim = AerSimulator(seed_simulator=seed);\n",
        "\n",
        "def circuit_compile(cirq: QuantumCircuit):\n",
        "  \"\"\"\n",
        "\n",
        "  Args:\n",
        "    cirq: input circuit\n",
        "\n",
        "  Returns: A copy of the input circuit with gates transformed into choosen basis gates\n",
        "\n",
        "  \"\"\"\n",
        "  basis_gates = ['cx','id','rz','sx','x']\n",
        "  return transpile(cirq, basis_gates=basis_gates, optimization_level=3,);\n",
        "\n",
        "def choose_random_gate():\n",
        "  \"\"\"\n",
        "  Randomly selects a pauli operation\n",
        "\n",
        "  Returns: selected gate instruction.\n",
        "  \"\"\"\n",
        "  choice_gate = random.choice(3);\n",
        "  match choice_gate:\n",
        "    case 0:\n",
        "      gate = XGate()\n",
        "    case 1:\n",
        "      gate = YGate()\n",
        "    case 2:\n",
        "      gate = ZGate()\n",
        "  return gate;\n",
        "\n",
        "def gate_add(cirq: QuantumCircuit, is_single_qubit_noise: bool, is_two_qubit_noise: bool):\n",
        "  \"\"\"\n",
        "  Assuming noise is added to all qubits.\n",
        "  Update the same input circuit\n",
        "\n",
        "  Args:\n",
        "    cirq: input circuit\n",
        "    is_single_qubit_noise: 0/1 (if single qubit noise is to be applied)\n",
        "    is_two_qubit_noise: 0/1 (if two qubit noise is to be applied)\n",
        "  \"\"\"\n",
        "\n",
        "  cirq_len = len(cirq.data);\n",
        "  # iterate backwards and add noisy gates at the the right of the original gate operations.\n",
        "  for i in range(cirq_len - 1, -1, -1):\n",
        "    # Only for those instruction which are of gate type\n",
        "    if isinstance(cirq.data[i].operation, Gate):\n",
        "      if is_single_qubit_noise and cirq.data[i].operation.num_qubits == 1:\n",
        "        gate = choose_random_gate();\n",
        "        #insert random operation\n",
        "        cirq.data.insert(i+1, CircuitInstruction(operation = gate, qubits = cirq.data[i].qubits, clbits=()))\n",
        "      if is_two_qubit_noise and cirq.data[i].operation.num_qubits == 2:\n",
        "        gate = choose_random_gate();\n",
        "        #insert random operation\n",
        "        cirq.data.insert(i+1, CircuitInstruction(operation = gate, qubits = tuple([cirq.data[i].qubits[0]]), clbits=()))\n",
        "        cirq.data.insert(i+1, CircuitInstruction(operation = gate, qubits = tuple([cirq.data[i].qubits[1]]), clbits=()))\n",
        "\n",
        "def NoiseAdder(a: float, b: float, circuit: QuantumCircuit):\n",
        "  \"\"\"\n",
        "  Assuming noise is added to all qubits.\n",
        "\n",
        "  Args:\n",
        "    a: probability of single qubit gate noise\n",
        "    b: probability of two qubit gate noise\n",
        "    circuit: Input circuit\n",
        "\n",
        "  Returns: A copy of input circuit with noise added\n",
        "\n",
        "  \"\"\"\n",
        "  assert a >= 0 and a < 1, \"noise probabiltiy for single qubit gates should be between [0,1]\"\n",
        "  assert b >= 0 and b < 1, \"noise probabiltiy for two qubit gates should be between [0,1]\"\n",
        "\n",
        "  noisy_cirq = circuit.copy();\n",
        "  # random sampling for choice of noise based on probability\n",
        "  choose = lambda prob : random.choice([False,True], p = [1-prob, prob]);\n",
        "\n",
        "  # generate noisy circuit\n",
        "  gate_add(noisy_cirq, choose(a), choose(b));\n",
        "  return noisy_cirq;\n"
      ],
      "metadata": {
        "colab": {
          "base_uri": "https://localhost:8080/"
        },
        "id": "9bD_HnVX1C7u",
        "outputId": "77b2b806-1e72-4769-f117-b5e3f1ee47ff"
      },
      "execution_count": null,
      "outputs": [
        {
          "output_type": "stream",
          "name": "stderr",
          "text": [
            "<ipython-input-165-9995c1d28f2b>:5: DeprecationWarning: `np.math` is a deprecated alias for the standard library `math` module (Deprecated Numpy 1.25). Replace usages of `np.math` with `math`\n",
            "  from numpy import random, math, binary_repr\n"
          ]
        }
      ]
    },
    {
      "cell_type": "code",
      "source": [
        "def Rn(n: float):\n",
        "  \"\"\"\n",
        "\n",
        "  Args:\n",
        "    n: phase power\n",
        "\n",
        "  Returns: CPhase gate with required rotation.\n",
        "\n",
        "  \"\"\"\n",
        "  return CPhaseGate(2**(1-n) * math.pi);\n",
        "\n",
        "def QFT(n_qubits: int):\n",
        "  \"\"\"\n",
        "\n",
        "  Args:\n",
        "    n_qubits: circuit size\n",
        "\n",
        "  Returns: returns a QFT circuit\n",
        "\n",
        "  \"\"\"\n",
        "  cirq = QuantumCircuit(n_qubits);\n",
        "  for i in range(n_qubits-1, -1, -1):\n",
        "    for n in range(0, n_qubits-1 - i):\n",
        "      cirq.append(Rn(n + 2) ,[i+1+n, i]);\n",
        "    cirq.h(i);\n",
        "  return cirq;\n",
        "\n",
        "def dapperAdder(a: int, b: int):\n",
        "  \"\"\"\n",
        "\n",
        "  Args:\n",
        "    a: number to sum\n",
        "    b:  number to sum\n",
        "\n",
        "  Returns: dapper adder circuit\n",
        "\n",
        "  \"\"\"\n",
        "  # Find nummber of qubit required\n",
        "  N = math.ceil(math.log2(max(a,b) + 1));\n",
        "  n_qubits = 2*N + 1;\n",
        "  b_binary = binary_repr(b, width = N);\n",
        "  a_binary = binary_repr(a, width = N);\n",
        "\n",
        "  # Initialize circuit\n",
        "  add_cirq = QuantumCircuit(n_qubits, N+1);\n",
        "  add_cirq.initialize(Statevector.from_label(b_binary), range(0, N));\n",
        "  add_cirq.initialize(Statevector.from_label('0' + a_binary),  range(N, n_qubits))\n",
        "\n",
        "  # QFT\n",
        "  add_cirq.compose(QFT(N+1), qubits = range(N, n_qubits), inplace = True);\n",
        "\n",
        "  # Adder circuit\n",
        "  for i in range(N, n_qubits):\n",
        "    if i == n_qubits - 1 :\n",
        "      for n in range(0, N):\n",
        "        add_cirq.append(Rn(n+2), [n, i])\n",
        "    else:\n",
        "      for n in range(0, i - N + 1):\n",
        "        add_cirq.append(Rn(n + 1), [n_qubits - 2 - i + n, i])\n",
        "\n",
        "  #Inverse QFT\n",
        "  add_cirq.compose(QFT(N+1).inverse(),  qubits = range(N, n_qubits), inplace = True);\n",
        "\n",
        "  # Measure\n",
        "  add_cirq.measure(range(N, n_qubits), range(0, N + 1));\n",
        "  return add_cirq\n",
        "\n",
        "\n",
        "def exp(add_noise, alpha = 0.5, beta = 0.5):\n",
        "  \"\"\"\n",
        "\n",
        "  Experimentation function\n",
        "\n",
        "  Args:\n",
        "    add_noise: if noise is added or not\n",
        "    alpha: single qubit gte noise\n",
        "    beta: two qubit gate noise\n",
        "\n",
        "  Returns: histogram\n",
        "\n",
        "  \"\"\"\n",
        "  ## Adder circuit\n",
        "  add = dapperAdder(3, 3);\n",
        "\n",
        "  ## Conversion to basis gates\n",
        "  comp_add = circuit_compile(add)\n",
        "\n",
        "  ## Noise model\n",
        "  if add_noise:\n",
        "    res = sim.run(NoiseAdder(alpha, beta, comp_add)).result();\n",
        "  else:\n",
        "    res = sim.run(comp_add).result();\n",
        "\n",
        "  print(res.get_counts())\n",
        "  return plot_histogram(res.get_counts())\n"
      ],
      "metadata": {
        "id": "51Xq-rF7IJTz"
      },
      "execution_count": null,
      "outputs": []
    },
    {
      "cell_type": "markdown",
      "source": [
        "### No Noise Experiment"
      ],
      "metadata": {
        "id": "zf5XzeqrUJdW"
      }
    },
    {
      "cell_type": "code",
      "source": [
        "exp(0)"
      ],
      "metadata": {
        "colab": {
          "base_uri": "https://localhost:8080/",
          "height": 464
        },
        "id": "5eUcGo9OTn2m",
        "outputId": "713b7a32-7a86-4df1-a7c3-4d7a8f31ff36"
      },
      "execution_count": null,
      "outputs": [
        {
          "output_type": "stream",
          "name": "stdout",
          "text": [
            "{'110': 1024}\n"
          ]
        },
        {
          "output_type": "execute_result",
          "data": {
            "text/plain": [
              "<Figure size 640x480 with 1 Axes>"
            ],
            "image/png": "[encoded data removed]"
          },
          "metadata": {},
          "execution_count": 167
        }
      ]
    },
    {
      "cell_type": "markdown",
      "source": [
        "### Noisy Experiment"
      ],
      "metadata": {
        "id": "gpBot36VUQ74"
      }
    },
    {
      "cell_type": "code",
      "source": [
        "exp(1)"
      ],
      "metadata": {
        "colab": {
          "base_uri": "https://localhost:8080/",
          "height": 464
        },
        "id": "KuQ2GJjiSUS7",
        "outputId": "e1678dec-5163-40b9-ace3-46e498e1f83c"
      },
      "execution_count": null,
      "outputs": [
        {
          "output_type": "stream",
          "name": "stdout",
          "text": [
            "{'100': 8, '000': 7, '101': 34, '001': 203, '110': 282, '011': 88, '111': 402}\n"
          ]
        },
        {
          "output_type": "execute_result",
          "data": {
            "text/plain": [
              "<Figure size 640x480 with 1 Axes>"
            ],
            "image/png": "[encoded data removed]"
          },
          "metadata": {},
          "execution_count": 170
        }
      ]
    },
    {
      "cell_type": "markdown",
      "source": [
        "### Extra Noisy Experiment"
      ],
      "metadata": {
        "id": "0VcMC8-yUUdo"
      }
    },
    {
      "cell_type": "code",
      "source": [
        "exp(1, 0.9, 0.9)\n"
      ],
      "metadata": {
        "colab": {
          "base_uri": "https://localhost:8080/",
          "height": 463
        },
        "id": "YgnqQ67Qm1Gc",
        "outputId": "632c42a8-0eeb-4e6f-85ce-1621a77d689f"
      },
      "execution_count": null,
      "outputs": [
        {
          "output_type": "stream",
          "name": "stdout",
          "text": [
            "{'000': 252, '100': 255, '001': 517}\n"
          ]
        },
        {
          "output_type": "execute_result",
          "data": {
            "text/plain": [
              "<Figure size 640x480 with 1 Axes>"
            ],
            "image/png": "[encoded data removed]"
          },
          "metadata": {},
          "execution_count": 169
        }
      ]
    },
    {
      "cell_type": "markdown",
      "source": [
        "## Answers\n",
        "\n",
        "\n",
        "- How does the noise affect the results?\n",
        "**  Noise leads to probabilistic results of multiple possible answers. Hence create error in results.\n",
        "\n",
        "- Is there a way to decrease the effect of noise?\n",
        "** By reducing noise problilities.\n",
        "**  By error correction techniques like surface codes\n",
        "\n",
        "- How does the number of gates used affect the results?\n",
        "** With more gates the error increases as there will be more noise introduced\n"
      ],
      "metadata": {
        "id": "prP8SIeIVB4d"
      }
    }
  ]
}